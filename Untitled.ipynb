{
 "cells": [
  {
   "cell_type": "code",
   "execution_count": 3,
   "metadata": {},
   "outputs": [],
   "source": [
    "import numpy as np\n",
    "import matplotlib.pyplot as plt\n",
    "\n",
    "# 顯示完整的精確度\n",
    "np.set_printoptions(suppress=True) "
   ]
  },
  {
   "cell_type": "markdown",
   "metadata": {},
   "source": [
    "## 1) 載入資料集\n",
    "此範例使用波士頓房價預測資料集 (boston house-prices dataset)"
   ]
  },
  {
   "cell_type": "code",
   "execution_count": 4,
   "metadata": {},
   "outputs": [
    {
     "name": "stdout",
     "output_type": "stream",
     "text": [
      "Features: ['CRIM' 'ZN' 'INDUS' 'CHAS' 'NOX' 'RM' 'AGE' 'DIS' 'RAD' 'TAX' 'PTRATIO'\n",
      " 'B' 'LSTAT']\n",
      "x_shape: (506, 13)\n",
      "y_shape: (506,)\n"
     ]
    }
   ],
   "source": [
    "from sklearn.datasets import load_boston\n",
    "\n",
    "digits = load_boston()\n",
    "print('Features:', digits.feature_names)\n",
    "\n",
    "# 觀看資料集的內容\n",
    "X, y = digits.data, digits.target\n",
    "print('x_shape:', X.shape)\n",
    "print('y_shape:', y.shape)"
   ]
  },
  {
   "cell_type": "markdown",
   "metadata": {},
   "source": [
    "# 2) 資料前處理"
   ]
  },
  {
   "cell_type": "code",
   "execution_count": 5,
   "metadata": {},
   "outputs": [
    {
     "name": "stdout",
     "output_type": "stream",
     "text": [
      "資料集 X 的平均值 :  [  3.61352356  11.36363636  11.13677866   0.06916996   0.55469506\n",
      "   6.28463439  68.57490119   3.79504269   9.54940711 408.23715415\n",
      "  18.4555336  356.67403162  12.65306324]\n",
      "資料集 X 的標準差 :  [  8.59304135  23.29939569   6.85357058   0.25374293   0.11576312\n",
      "   0.70192251  28.12103257   2.10362836   8.69865112 168.37049504\n",
      "   2.16280519  91.20460745   7.13400164]\n",
      "\n",
      "StandardScaler 縮放過後資料集 X 的平均值 :  [-0. -0. -0.  0.  0. -0. -0.  0.  0. -0. -0.  0. -0.]\n",
      "StandardScaler 縮放過後資料集 X 的標準差 :  [1. 1. 1. 1. 1. 1. 1. 1. 1. 1. 1. 1. 1.]\n"
     ]
    }
   ],
   "source": [
    "from sklearn.preprocessing import StandardScaler\n",
    "\n",
    "scaler = StandardScaler().fit(X)\n",
    "X_scaled = scaler.transform(X)\n",
    "\n",
    "# scaled之後的資料零均值，單位方差  \n",
    "print('資料集 X 的平均值 : ', X.mean(axis=0))\n",
    "print('資料集 X 的標準差 : ', X.std(axis=0))\n",
    "\n",
    "print('\\nStandardScaler 縮放過後資料集 X 的平均值 : ', X_scaled.mean(axis=0))\n",
    "print('StandardScaler 縮放過後資料集 X 的標準差 : ', X_scaled.std(axis=0))\n"
   ]
  },
  {
   "cell_type": "markdown",
   "metadata": {},
   "source": [
    "# 3) 將資料切分成訓練集、驗證集和測試集\n",
    "- 訓練集 (training set)\n",
    "- 驗證 (testing set)\n",
    "- 測試集 (validation set)"
   ]
  },
  {
   "cell_type": "code",
   "execution_count": 6,
   "metadata": {},
   "outputs": [
    {
     "name": "stdout",
     "output_type": "stream",
     "text": [
      "training set: 265\n",
      "testing set: 152\n",
      "validation set: 89\n"
     ]
    }
   ],
   "source": [
    "from sklearn.model_selection import train_test_split\n",
    "# 從資料集切分為訓練集以及測試集，以便評估模型\n",
    "x_train, x_test, y_train, y_test = train_test_split(X, y, test_size=0.3)\n",
    "\n",
    "# 再從訓練集挪取一部份作為驗證集，以便調整訓練參數\n",
    "x_train, x_valid, y_train, y_valid = train_test_split(x_train, y_train, test_size=0.25)\n",
    "\n",
    "print('training set: {}'.format(len(x_train)))\n",
    "print('testing set: {}'.format(len(x_test)))\n",
    "print('validation set: {}'.format(len(x_valid)))"
   ]
  },
  {
   "cell_type": "markdown",
   "metadata": {},
   "source": [
    "# 4) 建構模型\n",
    "使用 Tensorflow Keras API 建立 Sequential Model"
   ]
  },
  {
   "cell_type": "code",
   "execution_count": 7,
   "metadata": {},
   "outputs": [
    {
     "name": "stdout",
     "output_type": "stream",
     "text": [
      "Model: \"sequential_1\"\n",
      "_________________________________________________________________\n",
      "Layer (type)                 Output Shape              Param #   \n",
      "=================================================================\n",
      "dense (Dense)                (None, 16)                224       \n",
      "_________________________________________________________________\n",
      "dense_1 (Dense)              (None, 8)                 136       \n",
      "_________________________________________________________________\n",
      "dense_2 (Dense)              (None, 1)                 9         \n",
      "=================================================================\n",
      "Total params: 369\n",
      "Trainable params: 369\n",
      "Non-trainable params: 0\n",
      "_________________________________________________________________\n"
     ]
    }
   ],
   "source": [
    "import tensorflow as tf\n",
    "from tensorflow import keras\n",
    "from tensorflow.keras import layers\n",
    "\n",
    "model = keras.Sequential()\n",
    "model.add(layers.Dense(16, activation='relu',\n",
    "                       input_shape=(x_train.shape[1],)))\n",
    "model.add(layers.Dense(8, activation='relu'))\n",
    "model.add(layers.Dense(1, activation='linear'))\n",
    "\n",
    "model.summary()"
   ]
  },
  {
   "cell_type": "code",
   "execution_count": 130,
   "metadata": {},
   "outputs": [],
   "source": [
    "# 編譯模型用以訓練 (設定 optimizer, loss function, metrics, 等等)\n",
    "model.compile(loss='mse', optimizer=keras.optimizers.Adam(learning_rate=0.05))"
   ]
  },
  {
   "cell_type": "code",
   "execution_count": 131,
   "metadata": {},
   "outputs": [
    {
     "name": "stdout",
     "output_type": "stream",
     "text": [
      "Epoch 1/50\n",
      "9/9 [==============================] - 0s 17ms/step - loss: 3844.4968 - val_loss: 107.5782\n",
      "Epoch 2/50\n",
      "9/9 [==============================] - 0s 4ms/step - loss: 211.5247 - val_loss: 211.9175\n",
      "Epoch 3/50\n",
      "9/9 [==============================] - 0s 5ms/step - loss: 189.6507 - val_loss: 108.5684\n",
      "Epoch 4/50\n",
      "9/9 [==============================] - 0s 5ms/step - loss: 89.5713 - val_loss: 50.9367\n",
      "Epoch 5/50\n",
      "9/9 [==============================] - 0s 4ms/step - loss: 75.1870 - val_loss: 48.6754\n",
      "Epoch 6/50\n",
      "9/9 [==============================] - 0s 5ms/step - loss: 75.8842 - val_loss: 70.4585\n",
      "Epoch 7/50\n",
      "9/9 [==============================] - 0s 5ms/step - loss: 66.9283 - val_loss: 49.1556\n",
      "Epoch 8/50\n",
      "9/9 [==============================] - 0s 5ms/step - loss: 73.6260 - val_loss: 48.2487\n",
      "Epoch 9/50\n",
      "9/9 [==============================] - 0s 5ms/step - loss: 74.0023 - val_loss: 56.8590\n",
      "Epoch 10/50\n",
      "9/9 [==============================] - 0s 5ms/step - loss: 66.7253 - val_loss: 46.2203\n",
      "Epoch 11/50\n",
      "9/9 [==============================] - 0s 5ms/step - loss: 59.2504 - val_loss: 45.5348\n",
      "Epoch 12/50\n",
      "9/9 [==============================] - 0s 5ms/step - loss: 62.4533 - val_loss: 53.3063\n",
      "Epoch 13/50\n",
      "9/9 [==============================] - 0s 5ms/step - loss: 65.7722 - val_loss: 47.6621\n",
      "Epoch 14/50\n",
      "9/9 [==============================] - 0s 4ms/step - loss: 54.4698 - val_loss: 44.0727\n",
      "Epoch 15/50\n",
      "9/9 [==============================] - 0s 5ms/step - loss: 62.1381 - val_loss: 43.4347\n",
      "Epoch 16/50\n",
      "9/9 [==============================] - 0s 5ms/step - loss: 57.1092 - val_loss: 45.4736\n",
      "Epoch 17/50\n",
      "9/9 [==============================] - 0s 5ms/step - loss: 53.5361 - val_loss: 43.4912\n",
      "Epoch 18/50\n",
      "9/9 [==============================] - 0s 5ms/step - loss: 52.5419 - val_loss: 41.0287\n",
      "Epoch 19/50\n",
      "9/9 [==============================] - 0s 5ms/step - loss: 59.6343 - val_loss: 50.4804\n",
      "Epoch 20/50\n",
      "9/9 [==============================] - 0s 5ms/step - loss: 55.3808 - val_loss: 41.8006\n",
      "Epoch 21/50\n",
      "9/9 [==============================] - 0s 5ms/step - loss: 51.1052 - val_loss: 39.3980\n",
      "Epoch 22/50\n",
      "9/9 [==============================] - 0s 17ms/step - loss: 57.6418 - val_loss: 41.8871\n",
      "Epoch 23/50\n",
      "9/9 [==============================] - 0s 5ms/step - loss: 60.7774 - val_loss: 40.2618\n",
      "Epoch 24/50\n",
      "9/9 [==============================] - 0s 5ms/step - loss: 58.9809 - val_loss: 40.3752\n",
      "Epoch 25/50\n",
      "9/9 [==============================] - 0s 4ms/step - loss: 52.4587 - val_loss: 44.1042\n",
      "Epoch 26/50\n",
      "9/9 [==============================] - 0s 5ms/step - loss: 58.6016 - val_loss: 37.0585\n",
      "Epoch 27/50\n",
      "9/9 [==============================] - 0s 5ms/step - loss: 47.3528 - val_loss: 35.4709\n",
      "Epoch 28/50\n",
      "9/9 [==============================] - 0s 5ms/step - loss: 47.7259 - val_loss: 44.4386\n",
      "Epoch 29/50\n",
      "9/9 [==============================] - 0s 5ms/step - loss: 51.7625 - val_loss: 46.3951\n",
      "Epoch 30/50\n",
      "9/9 [==============================] - 0s 5ms/step - loss: 52.4407 - val_loss: 55.1584\n",
      "Epoch 31/50\n",
      "9/9 [==============================] - 0s 5ms/step - loss: 59.7094 - val_loss: 36.1157\n",
      "Epoch 32/50\n",
      "9/9 [==============================] - 0s 5ms/step - loss: 44.5199 - val_loss: 39.3091\n",
      "Epoch 33/50\n",
      "9/9 [==============================] - 0s 5ms/step - loss: 45.9643 - val_loss: 35.4895\n",
      "Epoch 34/50\n",
      "9/9 [==============================] - 0s 5ms/step - loss: 58.4615 - val_loss: 36.5251\n",
      "Epoch 35/50\n",
      "9/9 [==============================] - 0s 4ms/step - loss: 49.8047 - val_loss: 37.5590\n",
      "Epoch 36/50\n",
      "9/9 [==============================] - 0s 5ms/step - loss: 48.4182 - val_loss: 40.1793\n",
      "Epoch 37/50\n",
      "9/9 [==============================] - 0s 5ms/step - loss: 43.9977 - val_loss: 32.5414\n",
      "Epoch 38/50\n",
      "9/9 [==============================] - 0s 5ms/step - loss: 44.5937 - val_loss: 35.0035\n",
      "Epoch 39/50\n",
      "9/9 [==============================] - 0s 5ms/step - loss: 38.8043 - val_loss: 36.6894\n",
      "Epoch 40/50\n",
      "9/9 [==============================] - 0s 5ms/step - loss: 39.0837 - val_loss: 35.9605\n",
      "Epoch 41/50\n",
      "9/9 [==============================] - 0s 5ms/step - loss: 40.9413 - val_loss: 31.9206\n",
      "Epoch 42/50\n",
      "9/9 [==============================] - 0s 5ms/step - loss: 44.2303 - val_loss: 34.0412\n",
      "Epoch 43/50\n",
      "9/9 [==============================] - 0s 5ms/step - loss: 38.1061 - val_loss: 32.2045\n",
      "Epoch 44/50\n",
      "9/9 [==============================] - 0s 5ms/step - loss: 44.6895 - val_loss: 39.2195\n",
      "Epoch 45/50\n",
      "9/9 [==============================] - 0s 6ms/step - loss: 44.4963 - val_loss: 32.1045\n",
      "Epoch 46/50\n",
      "9/9 [==============================] - 0s 6ms/step - loss: 42.4012 - val_loss: 39.2508\n",
      "Epoch 47/50\n",
      "9/9 [==============================] - 0s 6ms/step - loss: 53.6262 - val_loss: 31.5727\n",
      "Epoch 48/50\n",
      "9/9 [==============================] - 0s 5ms/step - loss: 50.7782 - val_loss: 35.8577\n",
      "Epoch 49/50\n",
      "9/9 [==============================] - 0s 5ms/step - loss: 41.7034 - val_loss: 36.0954\n",
      "Epoch 50/50\n",
      "9/9 [==============================] - 0s 5ms/step - loss: 40.3405 - val_loss: 31.7822\n"
     ]
    }
   ],
   "source": [
    "# 設定訓練參數\n",
    "batch_size = 32  # 每次看 batch_size 筆的資料就更新權重\n",
    "epochs = 50      # 一個 epoch 會看過一次所有的資料\n",
    "\n",
    "# 訓練模型\n",
    "model_history = model.fit(x=x_train, y=y_train,\n",
    "                          batch_size=batch_size,\n",
    "                          epochs=epochs,\n",
    "                          validation_data=(x_valid, y_valid),\n",
    "                          shuffle=True)"
   ]
  },
  {
   "cell_type": "code",
   "execution_count": 132,
   "metadata": {},
   "outputs": [
    {
     "data": {
      "image/png": "[encoded data removed]",
      "text/plain": [
       "<Figure size 432x288 with 1 Axes>"
      ]
     },
     "metadata": {
      "needs_background": "light"
     },
     "output_type": "display_data"
    }
   ],
   "source": [
    "# 視覺化訓練過程\n",
    "plt.plot(model_history.history['loss'], 'b', label='train')\n",
    "plt.plot(model_history.history['val_loss'], 'r', label='valid')\n",
    "plt.legend()\n",
    "plt.title('Loss')\n",
    "plt.show()"
   ]
  },
  {
   "cell_type": "markdown",
   "metadata": {},
   "source": [
    "## 模型評估"
   ]
  },
  {
   "cell_type": "code",
   "execution_count": 133,
   "metadata": {},
   "outputs": [
    {
     "name": "stdout",
     "output_type": "stream",
     "text": [
      "testing mean squared error: 51.43\n"
     ]
    }
   ],
   "source": [
    "test_loss = model.evaluate(x=x_test, y=y_test, verbose=0)\n",
    "\n",
    "print('testing mean squared error: {:.2f}'.format(test_loss))"
   ]
  },
  {
   "cell_type": "markdown",
   "metadata": {},
   "source": [
    "## 儲存模型"
   ]
  },
  {
   "cell_type": "markdown",
   "metadata": {},
   "source": [
    "#### HDF5 檔"
   ]
  },
  {
   "cell_type": "code",
   "execution_count": 134,
   "metadata": {},
   "outputs": [],
   "source": [
    "model.save('./weights/boston_model.h5')"
   ]
  },
  {
   "cell_type": "markdown",
   "metadata": {},
   "source": [
    "#### pb 檔"
   ]
  },
  {
   "cell_type": "code",
   "execution_count": 135,
   "metadata": {},
   "outputs": [
    {
     "name": "stdout",
     "output_type": "stream",
     "text": [
      "INFO:tensorflow:Assets written to: ./checkpoints/boston_model.pb/assets\n"
     ]
    }
   ],
   "source": [
    "model.save('./checkpoints/boston_model.pb')"
   ]
  },
  {
   "cell_type": "markdown",
   "metadata": {},
   "source": [
    "## 載入模型"
   ]
  },
  {
   "cell_type": "markdown",
   "metadata": {},
   "source": [
    "#### HDF5 檔"
   ]
  },
  {
   "cell_type": "code",
   "execution_count": 136,
   "metadata": {},
   "outputs": [],
   "source": [
    "myModel = keras.models.load_model('./weights/boston_model.h5')"
   ]
  },
  {
   "cell_type": "code",
   "execution_count": 137,
   "metadata": {},
   "outputs": [
    {
     "name": "stdout",
     "output_type": "stream",
     "text": [
      "Model: \"sequential_16\"\n",
      "_________________________________________________________________\n",
      "Layer (type)                 Output Shape              Param #   \n",
      "=================================================================\n",
      "dense_45 (Dense)             (None, 16)                224       \n",
      "_________________________________________________________________\n",
      "dense_46 (Dense)             (None, 8)                 136       \n",
      "_________________________________________________________________\n",
      "dense_47 (Dense)             (None, 1)                 9         \n",
      "=================================================================\n",
      "Total params: 369\n",
      "Trainable params: 369\n",
      "Non-trainable params: 0\n",
      "_________________________________________________________________\n"
     ]
    }
   ],
   "source": [
    "myModel.summary()"
   ]
  },
  {
   "cell_type": "code",
   "execution_count": 138,
   "metadata": {},
   "outputs": [
    {
     "name": "stdout",
     "output_type": "stream",
     "text": [
      "testing mean squared error: 51.43\n"
     ]
    }
   ],
   "source": [
    "test_loss = myModel.evaluate(x=x_test, y=y_test, verbose=0)\n",
    "\n",
    "print('testing mean squared error: {:.2f}'.format(test_loss))"
   ]
  },
  {
   "cell_type": "markdown",
   "metadata": {},
   "source": [
    "#### pb 檔"
   ]
  },
  {
   "cell_type": "code",
   "execution_count": 8,
   "metadata": {},
   "outputs": [],
   "source": [
    "myModel = keras.models.load_model('./checkpoints/boston_model.pb')"
   ]
  },
  {
   "cell_type": "code",
   "execution_count": 9,
   "metadata": {},
   "outputs": [
    {
     "name": "stdout",
     "output_type": "stream",
     "text": [
      "Model: \"sequential_16\"\n",
      "_________________________________________________________________\n",
      "Layer (type)                 Output Shape              Param #   \n",
      "=================================================================\n",
      "dense_45 (Dense)             (None, 16)                224       \n",
      "_________________________________________________________________\n",
      "dense_46 (Dense)             (None, 8)                 136       \n",
      "_________________________________________________________________\n",
      "dense_47 (Dense)             (None, 1)                 9         \n",
      "=================================================================\n",
      "Total params: 369\n",
      "Trainable params: 369\n",
      "Non-trainable params: 0\n",
      "_________________________________________________________________\n"
     ]
    }
   ],
   "source": [
    "myModel.summary()"
   ]
  },
  {
   "cell_type": "code",
   "execution_count": 10,
   "metadata": {},
   "outputs": [
    {
     "name": "stdout",
     "output_type": "stream",
     "text": [
      "testing mean squared error: 45.33\n"
     ]
    }
   ],
   "source": [
    "test_loss = myModel.evaluate(x=x_test, y=y_test, verbose=0)\n",
    "\n",
    "print('testing mean squared error: {:.2f}'.format(test_loss))"
   ]
  },
  {
   "cell_type": "code",
   "execution_count": null,
   "metadata": {},
   "outputs": [],
   "source": []
  }
 ],
 "metadata": {
  "kernelspec": {
   "display_name": "Python 3",
   "language": "python",
   "name": "python3"
  },
  "language_info": {
   "codemirror_mode": {
    "name": "ipython",
    "version": 3
   },
   "file_extension": ".py",
   "mimetype": "text/x-python",
   "name": "python",
   "nbconvert_exporter": "python",
   "pygments_lexer": "ipython3",
   "version": "3.7.6"
  }
 },
 "nbformat": 4,
 "nbformat_minor": 4
}
