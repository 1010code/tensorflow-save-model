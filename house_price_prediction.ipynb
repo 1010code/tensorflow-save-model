{
 "cells": [
  {
   "cell_type": "code",
   "execution_count": 1,
   "metadata": {},
   "outputs": [],
   "source": [
    "import numpy as np\n",
    "import matplotlib.pyplot as plt\n",
    "\n",
    "# 顯示完整的精確度\n",
    "np.set_printoptions(suppress=True) "
   ]
  },
  {
   "cell_type": "markdown",
   "metadata": {},
   "source": [
    "## 1) 載入資料集\n",
    "此範例使用波士頓房價預測資料集 (boston house-prices dataset)"
   ]
  },
  {
   "cell_type": "code",
   "execution_count": 2,
   "metadata": {},
   "outputs": [
    {
     "name": "stdout",
     "output_type": "stream",
     "text": [
      "Features: ['CRIM' 'ZN' 'INDUS' 'CHAS' 'NOX' 'RM' 'AGE' 'DIS' 'RAD' 'TAX' 'PTRATIO'\n",
      " 'B' 'LSTAT']\n",
      "x_shape: (506, 13)\n",
      "y_shape: (506,)\n"
     ]
    }
   ],
   "source": [
    "from sklearn.datasets import load_boston\n",
    "\n",
    "digits = load_boston()\n",
    "print('Features:', digits.feature_names)\n",
    "\n",
    "# 觀看資料集的內容\n",
    "X, y = digits.data, digits.target\n",
    "print('x_shape:', X.shape)\n",
    "print('y_shape:', y.shape)"
   ]
  },
  {
   "cell_type": "markdown",
   "metadata": {},
   "source": [
    "# 2) 資料前處理"
   ]
  },
  {
   "cell_type": "code",
   "execution_count": 3,
   "metadata": {},
   "outputs": [
    {
     "name": "stdout",
     "output_type": "stream",
     "text": [
      "資料集 X 的平均值 :  [  3.61352356  11.36363636  11.13677866   0.06916996   0.55469506\n",
      "   6.28463439  68.57490119   3.79504269   9.54940711 408.23715415\n",
      "  18.4555336  356.67403162  12.65306324]\n",
      "資料集 X 的標準差 :  [  8.59304135  23.29939569   6.85357058   0.25374293   0.11576312\n",
      "   0.70192251  28.12103257   2.10362836   8.69865112 168.37049504\n",
      "   2.16280519  91.20460745   7.13400164]\n",
      "\n",
      "StandardScaler 縮放過後資料集 X 的平均值 :  [-0. -0. -0.  0.  0. -0. -0.  0.  0. -0. -0.  0. -0.]\n",
      "StandardScaler 縮放過後資料集 X 的標準差 :  [1. 1. 1. 1. 1. 1. 1. 1. 1. 1. 1. 1. 1.]\n"
     ]
    }
   ],
   "source": [
    "from sklearn.preprocessing import StandardScaler\n",
    "\n",
    "scaler = StandardScaler().fit(X)\n",
    "X_scaled = scaler.transform(X)\n",
    "\n",
    "# scaled之後的資料零均值，單位方差  \n",
    "print('資料集 X 的平均值 : ', X.mean(axis=0))\n",
    "print('資料集 X 的標準差 : ', X.std(axis=0))\n",
    "\n",
    "print('\\nStandardScaler 縮放過後資料集 X 的平均值 : ', X_scaled.mean(axis=0))\n",
    "print('StandardScaler 縮放過後資料集 X 的標準差 : ', X_scaled.std(axis=0))\n"
   ]
  },
  {
   "cell_type": "markdown",
   "metadata": {},
   "source": [
    "# 3) 將資料切分成訓練集、驗證集和測試集\n",
    "- 訓練集 (training set)\n",
    "- 驗證 (testing set)\n",
    "- 測試集 (validation set)"
   ]
  },
  {
   "cell_type": "code",
   "execution_count": 4,
   "metadata": {},
   "outputs": [
    {
     "name": "stdout",
     "output_type": "stream",
     "text": [
      "training set: 265\n",
      "testing set: 152\n",
      "validation set: 89\n"
     ]
    }
   ],
   "source": [
    "from sklearn.model_selection import train_test_split\n",
    "# 從資料集切分為訓練集以及測試集，以便評估模型\n",
    "x_train, x_test, y_train, y_test = train_test_split(X, y, test_size=0.3)\n",
    "\n",
    "# 再從訓練集挪取一部份作為驗證集，以便調整訓練參數\n",
    "x_train, x_valid, y_train, y_valid = train_test_split(x_train, y_train, test_size=0.25)\n",
    "\n",
    "print('training set: {}'.format(len(x_train)))\n",
    "print('testing set: {}'.format(len(x_test)))\n",
    "print('validation set: {}'.format(len(x_valid)))"
   ]
  },
  {
   "cell_type": "markdown",
   "metadata": {},
   "source": [
    "# 4) 建構模型\n",
    "使用 Tensorflow Keras API 建立 Sequential Model"
   ]
  },
  {
   "cell_type": "code",
   "execution_count": 5,
   "metadata": {},
   "outputs": [
    {
     "name": "stdout",
     "output_type": "stream",
     "text": [
      "Model: \"sequential\"\n",
      "_________________________________________________________________\n",
      "Layer (type)                 Output Shape              Param #   \n",
      "=================================================================\n",
      "dense (Dense)                (None, 16)                224       \n",
      "_________________________________________________________________\n",
      "dense_1 (Dense)              (None, 8)                 136       \n",
      "_________________________________________________________________\n",
      "dense_2 (Dense)              (None, 1)                 9         \n",
      "=================================================================\n",
      "Total params: 369\n",
      "Trainable params: 369\n",
      "Non-trainable params: 0\n",
      "_________________________________________________________________\n"
     ]
    }
   ],
   "source": [
    "import tensorflow as tf\n",
    "from tensorflow import keras\n",
    "from tensorflow.keras import layers\n",
    "\n",
    "model = keras.Sequential()\n",
    "model.add(layers.Dense(16, activation='relu',\n",
    "                       input_shape=(x_train.shape[1],)))\n",
    "model.add(layers.Dense(8, activation='relu'))\n",
    "model.add(layers.Dense(1, activation='linear'))\n",
    "\n",
    "model.summary()"
   ]
  },
  {
   "cell_type": "code",
   "execution_count": 6,
   "metadata": {},
   "outputs": [],
   "source": [
    "# 編譯模型用以訓練 (設定 optimizer, loss function, metrics, 等等)\n",
    "model.compile(loss='mse', optimizer=keras.optimizers.Adam(learning_rate=0.05))"
   ]
  },
  {
   "cell_type": "code",
   "execution_count": 7,
   "metadata": {},
   "outputs": [
    {
     "name": "stdout",
     "output_type": "stream",
     "text": [
      "Epoch 1/50\n",
      "9/9 [==============================] - 1s 55ms/step - loss: 1856.3174 - val_loss: 116.9966\n",
      "Epoch 2/50\n",
      "9/9 [==============================] - 0s 4ms/step - loss: 157.0812 - val_loss: 107.8167\n",
      "Epoch 3/50\n",
      "9/9 [==============================] - 0s 5ms/step - loss: 122.0773 - val_loss: 51.4238\n",
      "Epoch 4/50\n",
      "9/9 [==============================] - 0s 5ms/step - loss: 80.1131 - val_loss: 53.1903\n",
      "Epoch 5/50\n",
      "9/9 [==============================] - 0s 5ms/step - loss: 80.8786 - val_loss: 42.6322\n",
      "Epoch 6/50\n",
      "9/9 [==============================] - 0s 5ms/step - loss: 55.1641 - val_loss: 41.5695\n",
      "Epoch 7/50\n",
      "9/9 [==============================] - 0s 5ms/step - loss: 71.8038 - val_loss: 38.1061\n",
      "Epoch 8/50\n",
      "9/9 [==============================] - 0s 5ms/step - loss: 63.1416 - val_loss: 38.9494\n",
      "Epoch 9/50\n",
      "9/9 [==============================] - 0s 5ms/step - loss: 68.5389 - val_loss: 65.6430\n",
      "Epoch 10/50\n",
      "9/9 [==============================] - 0s 5ms/step - loss: 65.5099 - val_loss: 35.4513\n",
      "Epoch 11/50\n",
      "9/9 [==============================] - 0s 5ms/step - loss: 60.2138 - val_loss: 48.8945\n",
      "Epoch 12/50\n",
      "9/9 [==============================] - 0s 5ms/step - loss: 57.9173 - val_loss: 46.9934\n",
      "Epoch 13/50\n",
      "9/9 [==============================] - 0s 5ms/step - loss: 77.5795 - val_loss: 35.6416\n",
      "Epoch 14/50\n",
      "9/9 [==============================] - 0s 5ms/step - loss: 56.4004 - val_loss: 34.4324\n",
      "Epoch 15/50\n",
      "9/9 [==============================] - 0s 5ms/step - loss: 44.8443 - val_loss: 33.0407\n",
      "Epoch 16/50\n",
      "9/9 [==============================] - 0s 5ms/step - loss: 52.4832 - val_loss: 32.2454\n",
      "Epoch 17/50\n",
      "9/9 [==============================] - 0s 5ms/step - loss: 48.2318 - val_loss: 36.6028\n",
      "Epoch 18/50\n",
      "9/9 [==============================] - 0s 5ms/step - loss: 37.4266 - val_loss: 37.1158\n",
      "Epoch 19/50\n",
      "9/9 [==============================] - 0s 13ms/step - loss: 49.1236 - val_loss: 28.8706\n",
      "Epoch 20/50\n",
      "9/9 [==============================] - 0s 5ms/step - loss: 37.5086 - val_loss: 29.7596\n",
      "Epoch 21/50\n",
      "9/9 [==============================] - 0s 5ms/step - loss: 39.7954 - val_loss: 29.3564\n",
      "Epoch 22/50\n",
      "9/9 [==============================] - 0s 5ms/step - loss: 38.5940 - val_loss: 41.6867\n",
      "Epoch 23/50\n",
      "9/9 [==============================] - 0s 5ms/step - loss: 49.4681 - val_loss: 30.2972\n",
      "Epoch 24/50\n",
      "9/9 [==============================] - 0s 5ms/step - loss: 34.0229 - val_loss: 28.6255\n",
      "Epoch 25/50\n",
      "9/9 [==============================] - 0s 5ms/step - loss: 33.4851 - val_loss: 27.8694\n",
      "Epoch 26/50\n",
      "9/9 [==============================] - 0s 5ms/step - loss: 37.9792 - val_loss: 28.6076\n",
      "Epoch 27/50\n",
      "9/9 [==============================] - 0s 5ms/step - loss: 43.1108 - val_loss: 31.2248\n",
      "Epoch 28/50\n",
      "9/9 [==============================] - 0s 5ms/step - loss: 35.8601 - val_loss: 38.8476\n",
      "Epoch 29/50\n",
      "9/9 [==============================] - 0s 5ms/step - loss: 40.0681 - val_loss: 44.8835\n",
      "Epoch 30/50\n",
      "9/9 [==============================] - 0s 5ms/step - loss: 40.9379 - val_loss: 33.8863\n",
      "Epoch 31/50\n",
      "9/9 [==============================] - 0s 5ms/step - loss: 39.8563 - val_loss: 38.4653\n",
      "Epoch 32/50\n",
      "9/9 [==============================] - 0s 5ms/step - loss: 42.2417 - val_loss: 28.7902\n",
      "Epoch 33/50\n",
      "9/9 [==============================] - 0s 5ms/step - loss: 29.2251 - val_loss: 27.9401\n",
      "Epoch 34/50\n",
      "9/9 [==============================] - 0s 5ms/step - loss: 32.6997 - val_loss: 28.8682\n",
      "Epoch 35/50\n",
      "9/9 [==============================] - 0s 5ms/step - loss: 35.0694 - val_loss: 28.5429\n",
      "Epoch 36/50\n",
      "9/9 [==============================] - 0s 5ms/step - loss: 32.6417 - val_loss: 27.9346\n",
      "Epoch 37/50\n",
      "9/9 [==============================] - 0s 5ms/step - loss: 29.9740 - val_loss: 29.8240\n",
      "Epoch 38/50\n",
      "9/9 [==============================] - 0s 5ms/step - loss: 36.7449 - val_loss: 32.6025\n",
      "Epoch 39/50\n",
      "9/9 [==============================] - 0s 5ms/step - loss: 38.6704 - val_loss: 46.1524\n",
      "Epoch 40/50\n",
      "9/9 [==============================] - 0s 5ms/step - loss: 49.0159 - val_loss: 33.5865\n",
      "Epoch 41/50\n",
      "9/9 [==============================] - 0s 5ms/step - loss: 61.6918 - val_loss: 29.2083\n",
      "Epoch 42/50\n",
      "9/9 [==============================] - 0s 5ms/step - loss: 54.7024 - val_loss: 27.1020\n",
      "Epoch 43/50\n",
      "9/9 [==============================] - 0s 5ms/step - loss: 38.9714 - val_loss: 30.6579\n",
      "Epoch 44/50\n",
      "9/9 [==============================] - 0s 5ms/step - loss: 48.7699 - val_loss: 42.5444\n",
      "Epoch 45/50\n",
      "9/9 [==============================] - 0s 5ms/step - loss: 57.5133 - val_loss: 50.5297\n",
      "Epoch 46/50\n",
      "9/9 [==============================] - 0s 5ms/step - loss: 44.8444 - val_loss: 27.8980\n",
      "Epoch 47/50\n",
      "9/9 [==============================] - 0s 5ms/step - loss: 38.6140 - val_loss: 27.1931\n",
      "Epoch 48/50\n",
      "9/9 [==============================] - 0s 5ms/step - loss: 34.6393 - val_loss: 30.6216\n",
      "Epoch 49/50\n",
      "9/9 [==============================] - 0s 5ms/step - loss: 43.0710 - val_loss: 27.4976\n",
      "Epoch 50/50\n",
      "9/9 [==============================] - 0s 5ms/step - loss: 27.4945 - val_loss: 60.7627\n"
     ]
    }
   ],
   "source": [
    "# 設定訓練參數\n",
    "batch_size = 32  # 每次看 batch_size 筆的資料就更新權重\n",
    "epochs = 50      # 一個 epoch 會看過一次所有的資料\n",
    "\n",
    "# 訓練模型\n",
    "model_history = model.fit(x=x_train, y=y_train,\n",
    "                          batch_size=batch_size,\n",
    "                          epochs=epochs,\n",
    "                          validation_data=(x_valid, y_valid),\n",
    "                          shuffle=True)"
   ]
  },
  {
   "cell_type": "code",
   "execution_count": 8,
   "metadata": {},
   "outputs": [
    {
     "data": {
      "image/png": "[encoded data removed]",
      "text/plain": [
       "<Figure size 432x288 with 1 Axes>"
      ]
     },
     "metadata": {
      "needs_background": "light"
     },
     "output_type": "display_data"
    }
   ],
   "source": [
    "# 視覺化訓練過程\n",
    "plt.plot(model_history.history['loss'], 'b', label='train')\n",
    "plt.plot(model_history.history['val_loss'], 'r', label='valid')\n",
    "plt.legend()\n",
    "plt.title('Loss')\n",
    "plt.show()"
   ]
  },
  {
   "cell_type": "markdown",
   "metadata": {},
   "source": [
    "## 模型評估"
   ]
  },
  {
   "cell_type": "code",
   "execution_count": 9,
   "metadata": {},
   "outputs": [
    {
     "name": "stdout",
     "output_type": "stream",
     "text": [
      "testing mean squared error: 58.12\n"
     ]
    }
   ],
   "source": [
    "test_loss = model.evaluate(x=x_test, y=y_test, verbose=0)\n",
    "\n",
    "print('testing mean squared error: {:.2f}'.format(test_loss))"
   ]
  },
  {
   "cell_type": "markdown",
   "metadata": {},
   "source": [
    "## 儲存模型"
   ]
  },
  {
   "cell_type": "markdown",
   "metadata": {},
   "source": [
    "#### HDF5 檔"
   ]
  },
  {
   "cell_type": "code",
   "execution_count": 10,
   "metadata": {},
   "outputs": [],
   "source": [
    "model.save('./weights/boston_model.h5')"
   ]
  },
  {
   "cell_type": "markdown",
   "metadata": {},
   "source": [
    "#### pb 檔"
   ]
  },
  {
   "cell_type": "code",
   "execution_count": 11,
   "metadata": {},
   "outputs": [
    {
     "name": "stdout",
     "output_type": "stream",
     "text": [
      "INFO:tensorflow:Assets written to: ./checkpoints/boston_model.pb/assets\n"
     ]
    }
   ],
   "source": [
    "model.save('./checkpoints/boston_model.pb')"
   ]
  },
  {
   "cell_type": "markdown",
   "metadata": {},
   "source": [
    "## 載入模型"
   ]
  },
  {
   "cell_type": "markdown",
   "metadata": {},
   "source": [
    "#### HDF5 檔"
   ]
  },
  {
   "cell_type": "code",
   "execution_count": 12,
   "metadata": {},
   "outputs": [],
   "source": [
    "myModel = keras.models.load_model('./weights/boston_model.h5')"
   ]
  },
  {
   "cell_type": "code",
   "execution_count": 13,
   "metadata": {},
   "outputs": [
    {
     "name": "stdout",
     "output_type": "stream",
     "text": [
      "Model: \"sequential\"\n",
      "_________________________________________________________________\n",
      "Layer (type)                 Output Shape              Param #   \n",
      "=================================================================\n",
      "dense (Dense)                (None, 16)                224       \n",
      "_________________________________________________________________\n",
      "dense_1 (Dense)              (None, 8)                 136       \n",
      "_________________________________________________________________\n",
      "dense_2 (Dense)              (None, 1)                 9         \n",
      "=================================================================\n",
      "Total params: 369\n",
      "Trainable params: 369\n",
      "Non-trainable params: 0\n",
      "_________________________________________________________________\n"
     ]
    }
   ],
   "source": [
    "myModel.summary()"
   ]
  },
  {
   "cell_type": "code",
   "execution_count": 14,
   "metadata": {},
   "outputs": [
    {
     "name": "stdout",
     "output_type": "stream",
     "text": [
      "testing mean squared error: 58.12\n"
     ]
    }
   ],
   "source": [
    "test_loss = myModel.evaluate(x=x_test, y=y_test, verbose=0)\n",
    "\n",
    "print('testing mean squared error: {:.2f}'.format(test_loss))"
   ]
  },
  {
   "cell_type": "markdown",
   "metadata": {},
   "source": [
    "#### pb 檔"
   ]
  },
  {
   "cell_type": "code",
   "execution_count": 15,
   "metadata": {},
   "outputs": [],
   "source": [
    "myModel = keras.models.load_model('./checkpoints/boston_model.pb')"
   ]
  },
  {
   "cell_type": "code",
   "execution_count": 16,
   "metadata": {},
   "outputs": [
    {
     "name": "stdout",
     "output_type": "stream",
     "text": [
      "Model: \"sequential\"\n",
      "_________________________________________________________________\n",
      "Layer (type)                 Output Shape              Param #   \n",
      "=================================================================\n",
      "dense (Dense)                (None, 16)                224       \n",
      "_________________________________________________________________\n",
      "dense_1 (Dense)              (None, 8)                 136       \n",
      "_________________________________________________________________\n",
      "dense_2 (Dense)              (None, 1)                 9         \n",
      "=================================================================\n",
      "Total params: 369\n",
      "Trainable params: 369\n",
      "Non-trainable params: 0\n",
      "_________________________________________________________________\n"
     ]
    }
   ],
   "source": [
    "myModel.summary()"
   ]
  },
  {
   "cell_type": "code",
   "execution_count": 17,
   "metadata": {},
   "outputs": [
    {
     "name": "stdout",
     "output_type": "stream",
     "text": [
      "testing mean squared error: 58.12\n"
     ]
    }
   ],
   "source": [
    "test_loss = myModel.evaluate(x=x_test, y=y_test, verbose=0)\n",
    "\n",
    "print('testing mean squared error: {:.2f}'.format(test_loss))"
   ]
  },
  {
   "cell_type": "code",
   "execution_count": null,
   "metadata": {},
   "outputs": [],
   "source": []
  }
 ],
 "metadata": {
  "kernelspec": {
   "display_name": "Python 3",
   "language": "python",
   "name": "python3"
  },
  "language_info": {
   "codemirror_mode": {
    "name": "ipython",
    "version": 3
   },
   "file_extension": ".py",
   "mimetype": "text/x-python",
   "name": "python",
   "nbconvert_exporter": "python",
   "pygments_lexer": "ipython3",
   "version": "3.7.6"
  }
 },
 "nbformat": 4,
 "nbformat_minor": 4
}
